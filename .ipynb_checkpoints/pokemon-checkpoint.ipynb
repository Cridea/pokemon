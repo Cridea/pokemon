{
 "cells": [
  {
   "cell_type": "code",
   "execution_count": 5,
   "id": "4e98f896-c655-4fbe-a024-14394c377be9",
   "metadata": {},
   "outputs": [
    {
     "name": "stdout",
     "output_type": "stream",
     "text": [
      "51.75% покемонов имеют двойной тип.\n",
      "Всего типов покемонов: 18\n",
      "['Grass' 'Fire' 'Water' 'Bug' 'Normal' 'Poison' 'Electric' 'Ground'\n",
      " 'Fairy' 'Fighting' 'Psychic' 'Rock' 'Ghost' 'Ice' 'Dragon' 'Dark' 'Steel'\n",
      " 'Flying']\n",
      "Одинарный тип: 412.01554404145077, Двойной тип: 456.6280193236715\n",
      "Средняя защита (Grass): 70.8, (Fairy): 65.70588235294117\n",
      "Легендарные: 637.3846153846154, Нелегендарные: 417.21360544217686\n",
      "Всего случаев: 1265\n"
     ]
    },
    {
     "data": {
      "image/png": "[encoded data removed]",
      "text/plain": [
       "<Figure size 640x480 with 1 Axes>"
      ]
     },
     "metadata": {},
     "output_type": "display_data"
    },
    {
     "name": "stdout",
     "output_type": "stream",
     "text": [
      "Среднее: 38.74624505928854, Медиана: 25.0, Мода: 20\n",
      "Наименьшая корреляция между характеристиками:\n",
      "Generation  Speed   -0.023121\n",
      "dtype: float64\n"
     ]
    }
   ],
   "source": [
    "import pandas as pd\n",
    "import numpy as np\n",
    "import matplotlib.pyplot as plt\n",
    "import seaborn as sns\n",
    "\n",
    "file_path = 'C:/Users/cride/pokemon/Pokemon.csv'\n",
    "df = pd.read_csv(file_path)\n",
    "\n",
    "# Отображение первых строк датасета\n",
    "df.head()\n",
    "\n",
    "# Процент покемонов с двойным типом\n",
    "double_type_pct = df['Type 2'].notna().mean() * 100\n",
    "print(f\"{double_type_pct:.2f}% покемонов имеют двойной тип.\")\n",
    "\n",
    "# Типы покемонов\n",
    "unique_types = pd.concat([df['Type 1'], df['Type 2'].dropna()]).unique()\n",
    "print(f\"Всего типов покемонов: {len(unique_types)}\")\n",
    "print(unique_types)\n",
    "\n",
    "# Общие показатели (Total) для одинарного и двойного типа\n",
    "total_single = df[df['Type 2'].isna()]['Total'].mean()\n",
    "total_double = df[df['Type 2'].notna()]['Total'].mean()\n",
    "print(f\"Одинарный тип: {total_single}, Двойной тип: {total_double}\")\n",
    "\n",
    "# Средний показатель Защита (Defense)\n",
    "defense_grass = df[df['Type 1'] == 'Grass']['Defense'].mean()\n",
    "defense_fairy = df[df['Type 1'] == 'Fairy']['Defense'].mean()\n",
    "print(f\"Средняя защита (Grass): {defense_grass}, (Fairy): {defense_fairy}\")\n",
    "\n",
    "# Среднестатистический легендарный покемон\n",
    "legendary_mean = df[df['Legendary']]['Total'].mean()\n",
    "non_legendary_mean = df[~df['Legendary']]['Total'].mean()\n",
    "print(f\"Легендарные: {legendary_mean}, Нелегендарные: {non_legendary_mean}\")\n",
    "\n",
    "# Пары покемонов\n",
    "legendary_pokemon = df[df['Legendary']]\n",
    "non_legendary_pokemon = df[~df['Legendary']]\n",
    "weaker_legendaries = []\n",
    "\n",
    "for _, legendary in legendary_pokemon.iterrows():\n",
    "    stronger_non_legendary = non_legendary_pokemon[non_legendary_pokemon['Total'] > legendary['Total']]\n",
    "    for _, non_legendary in stronger_non_legendary.iterrows():\n",
    "        weaker_legendaries.append((legendary['Name'], non_legendary['Name'], non_legendary['Total'] - legendary['Total']))\n",
    "\n",
    "print(f\"Всего случаев: {len(weaker_legendaries)}\")\n",
    "\n",
    "# Гистограмма разницы Total\n",
    "differences = [x[2] for x in weaker_legendaries]\n",
    "sns.histplot(differences, kde=True)\n",
    "plt.xlabel('Разница в показателе Total')\n",
    "plt.ylabel('Частота')\n",
    "plt.show()\n",
    "\n",
    "mean_diff = np.mean(differences)\n",
    "median_diff = np.median(differences)\n",
    "mode_diff = max(set(differences), key=differences.count)\n",
    "print(f\"Среднее: {mean_diff}, Медиана: {median_diff}, Мода: {mode_diff}\")\n",
    "\n",
    "# Корреляция характеристик\n",
    "numeric_df = df.select_dtypes(include=[np.number])\n",
    "correlation_matrix = numeric_df.corr()\n",
    "min_correlation = correlation_matrix.unstack().sort_values().drop_duplicates().head(1)\n",
    "print(\"Наименьшая корреляция между характеристиками:\")\n",
    "print(min_correlation)\n"
   ]
  },
  {
   "cell_type": "markdown",
   "id": "094110f0-9bfe-4389-bffa-b0363b60f215",
   "metadata": {},
   "source": [
    "# Анализ данных о покемонах\n",
    "\n",
    "## Введение\n",
    "Этот анализ включает исследование характеристик покемонов и ответ на несколько вопросов, связанных с данными.\n",
    "\n",
    "## Вопросы и ответы\n",
    "\n",
    "### 2.1. Сколько % покемонов имеет двойной тип?\n",
    "51.75% покемонов имеют двойной тип.\n",
    "\n",
    "### 2.2. Сколько всего типов покемонов и какими они бывают?\n",
    "Всего типов покемонов: 18\n",
    "- 'Grass', 'Fire', 'Water', 'Bug', 'Normal', 'Poison', 'Electric', 'Ground', 'Fairy', 'Fighting', 'Psychic', 'Rock', 'Ghost', 'Ice', 'Dragon', 'Dark', 'Steel', 'Flying'\n",
    "\n",
    "### 2.3. У кого лучше общие показатели (Total): у покемонов двойного или одинарного типа?\n",
    "- Средний показатель Total у покемонов одинарного типа: 412.02\n",
    "- Средний показатель Total у покемонов двойного типа: 456.63\n",
    "- Лучше у покемонов двойного типа.\n",
    "\n",
    "### 2.4. У кого лучше средний показатель Защита (Defense): у покемонов типа Grass или у покемонов типа Fairy?\n",
    "- Средний показатель защиты у покемонов типа Grass: 70.8\n",
    "- Средний показатель защиты у покемонов типа Fairy: 65.71\n",
    "- Лучше у покемонов типа Grass.\n",
    "\n",
    "### 2.5. Среднестатистический легендарный покемон должен быть сильнее, чем среднестатистический нелегендарный. Подтвердите или опровергните это предположение.\n",
    "- Средний показатель Total у легендарных покемонов: 637.38\n",
    "- Средний показатель Total у нелегендарных покемонов: 417.21\n",
    "- Предположение подтверждается.\n",
    "\n",
    "### 2.6. Покажите все случаи (пары покемонов), когда легендарный покемон по показателю Total оказался слабее, чем нелегендарный. Сколько таких случаев?\n",
    "Всего случаев: 1265\n",
    "\n",
    "### 2.7. Для каждой пары, в которой нелегендарный покемон оказывается сильнее легендарного, посчитайте разницу в показателе Total. Постройте гистограмму полученной величины. Похоже ли распределение на нормальное? Рассчитайте среднее арифметическое, медиану и моду данной величины.\n",
    "- Среднее арифметическое: 38.75\n",
    "- Медиана: 25.0\n",
    "- Мода: 20\n",
    "- Гистограмма не выглядит нормально распределенной, присутствуют пики и разброс данных.\n",
    "\n",
    "### 2.8. Назовите две характеристики покемонов, которые коррелируют в наименьшей степени.\n",
    "Наименьшая корреляция между характеристиками: Generation и Speed (-0.023121)\n",
    "\n",
    "### 2.9. Что делает покемона легендарным, кроме суммы характеристик? Важнее сила атаки или сила защиты, а может сила специальной атаки или сила специальной защиты, или скорость, или здоровье? А может важна уникальность типа или поколение покемона? Подкрепите свое мнение расчетами.\n",
    "Проведенный анализ указывает на то, что легендарные покемоны в среднем обладают более высокими характеристиками во всех аспектах (HP, Attack, Defense, Sp. Atk, Sp. Def, Speed) по сравнению с нелегендарными покемонами. Также важно учитывать поколение, так как легендарные покемоны часто появляются в поздних поколениях с более сбалансированными и высокими характеристиками.\n"
   ]
  },
  {
   "cell_type": "code",
   "execution_count": null,
   "id": "95814583-ab39-4861-aeef-a7ce0697e1fd",
   "metadata": {},
   "outputs": [],
   "source": []
  }
 ],
 "metadata": {
  "kernelspec": {
   "display_name": "Python 3 (ipykernel)",
   "language": "python",
   "name": "python3"
  },
  "language_info": {
   "codemirror_mode": {
    "name": "ipython",
    "version": 3
   },
   "file_extension": ".py",
   "mimetype": "text/x-python",
   "name": "python",
   "nbconvert_exporter": "python",
   "pygments_lexer": "ipython3",
   "version": "3.10.2"
  }
 },
 "nbformat": 4,
 "nbformat_minor": 5
}
